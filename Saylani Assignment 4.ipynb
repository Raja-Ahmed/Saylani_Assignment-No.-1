{
 "cells": [
  {
   "cell_type": "markdown",
   "metadata": {},
   "source": [
    "# Program NO.1"
   ]
  },
  {
   "cell_type": "code",
   "execution_count": 13,
   "metadata": {},
   "outputs": [
    {
     "name": "stdout",
     "output_type": "stream",
     "text": [
      "Aslam\n",
      "Ahmad\n",
      "34\n",
      "Rawalpindi\n"
     ]
    }
   ],
   "source": [
    "person = {\n",
    "    'first_name': 'Aslam',\n",
    "    'last_name': 'Ahmad',\n",
    "    'age': 34,\n",
    "    'city': 'Rawalpindi',\n",
    "    }\n",
    "\n",
    "print(person['first_name'])\n",
    "print(person['last_name'])\n",
    "print(person['age'])\n",
    "print(person['city'])"
   ]
  },
  {
   "cell_type": "markdown",
   "metadata": {},
   "source": [
    "# Program NO.2"
   ]
  },
  {
   "cell_type": "code",
   "execution_count": 20,
   "metadata": {},
   "outputs": [
    {
     "name": "stdout",
     "output_type": "stream",
     "text": [
      "\n",
      "Karachi is in Pakistan.\n",
      "  It has a population of about 14916456.\n",
      "  It is famous for City Of Lights.\n",
      "\n",
      "Ankara is in Turkey.\n",
      "  It has a population of about 5445026.\n",
      "  It is famous for Ethnography Museum.\n",
      "\n",
      "Rome is in Italy.\n",
      "  It has a population of about 287280.\n",
      "  It is famous for St Peter’S Basilica.\n"
     ]
    }
   ],
   "source": [
    "cities = {\n",
    "    'Karachi': {\n",
    "        'country': 'Pakistan',\n",
    "        'population': 14916456,\n",
    "        'fact': 'city of lights',\n",
    "        },\n",
    "    'Ankara': {\n",
    "        'country': 'Turkey',\n",
    "        'population': 5445026,\n",
    "        'fact': 'Ethnography Museum',\n",
    "        },\n",
    "    'Rome': {\n",
    "        'country': 'Italy',\n",
    "        'population': 287280,\n",
    "        'fact': 'St Peter’s basilica',\n",
    "        }\n",
    "    }\n",
    "\n",
    "for city, city_info in cities.items():\n",
    "    country = city_info['country'].title()\n",
    "    population = city_info['population']\n",
    "    fact = city_info['fact'].title()\n",
    "\n",
    "    print(\"\\n\" + city.title() + \" is in \" + country + \".\")\n",
    "    print(\"  It has a population of about \" + str(population) + \".\")\n",
    "    print(\"  It is famous for \" + fact + \".\")"
   ]
  },
  {
   "cell_type": "markdown",
   "metadata": {},
   "source": [
    "# Program NO.3"
   ]
  },
  {
   "cell_type": "code",
   "execution_count": 3,
   "metadata": {},
   "outputs": [
    {
     "name": "stdout",
     "output_type": "stream",
     "text": [
      "How old are you?\n",
      "Enter 'finsih' when you are finished. 4\n",
      "  Your ticket is $10.\n",
      "How old are you?\n",
      "Enter 'finsih' when you are finished. 2\n",
      "  You get in free!\n",
      "How old are you?\n",
      "Enter 'finsih' when you are finished. 19\n",
      "  Your ticket is $15.\n",
      "How old are you?\n",
      "Enter 'finsih' when you are finished. finish\n",
      "----END----\n"
     ]
    }
   ],
   "source": [
    "lt = \"How old are you?\"\n",
    "lt += \"\\nEnter 'finsih' when you are finished. \"\n",
    "\n",
    "while True:\n",
    "    age = input(lt)\n",
    "    if age == (\"finish\"):\n",
    "        print(\"----END----\")\n",
    "        break\n",
    "    age = int(age)\n",
    "\n",
    "    if age < 3:\n",
    "        print(\"  You get in free!\")\n",
    "    elif age < 13:\n",
    "        print(\"  Your ticket is $10.\")\n",
    "    else:\n",
    "        print(\"  Your ticket is $15.\")"
   ]
  },
  {
   "cell_type": "markdown",
   "metadata": {},
   "source": [
    "# Program NO.4"
   ]
  },
  {
   "cell_type": "code",
   "execution_count": 16,
   "metadata": {},
   "outputs": [
    {
     "name": "stdout",
     "output_type": "stream",
     "text": [
      "Ulysses is one of my favorite books.\n"
     ]
    }
   ],
   "source": [
    "def favorite_book(title):\n",
    "    print(title + \" is one of my favorite books.\")\n",
    "\n",
    "favorite_book('Ulysses')"
   ]
  },
  {
   "cell_type": "markdown",
   "metadata": {},
   "source": [
    "# Program NO.5"
   ]
  },
  {
   "cell_type": "code",
   "execution_count": 1,
   "metadata": {},
   "outputs": [
    {
     "name": "stdout",
     "output_type": "stream",
     "text": [
      "Hello! What is your name?\n",
      "Ahmed\n",
      "Well, Ahmed, I am thinking of a number between 1 and 30.\n",
      "Take a guess.\n",
      "15\n",
      "Your guess is too low.\n",
      "Take a guess.\n",
      "26\n",
      "Your guess is too low.\n",
      "Take a guess.\n",
      "30\n",
      "Your guess is too high.\n",
      "Nope. The number I was thinking of was 28\n"
     ]
    }
   ],
   "source": [
    " import random\n",
    "\n",
    " guessesTaken = 0\n",
    " \n",
    " print('Hello! What is your name?')\n",
    " myName = input()\n",
    "\n",
    " number = random.randint(1, 30)\n",
    " print('Well, ' + myName + ', I am thinking of a number between 1 and 30.')\n",
    "\n",
    " while guessesTaken < 3:\n",
    "     print('Take a guess.') \n",
    "     guess = input()\n",
    "     guess = int(guess)\n",
    "\n",
    "     guessesTaken = guessesTaken + 1\n",
    "\n",
    "     if guess < number:\n",
    "         print('Your guess is too low.') \n",
    "\n",
    "     if guess > number:\n",
    "         print('Your guess is too high.')\n",
    "\n",
    "     if guess == number:\n",
    "         break\n",
    "\n",
    " if guess == number:\n",
    "     guessesTaken = str(guessesTaken)\n",
    "     print('Good job, ' + myName + '! You guessed my number in ' + guessesTaken + ' guesses!')\n",
    "\n",
    " if guess != number:\n",
    "     number = str(number)\n",
    "     print('Nope. The number I was thinking of was ' + number)\n"
   ]
  }
 ],
 "metadata": {
  "kernelspec": {
   "display_name": "Python 3",
   "language": "python",
   "name": "python3"
  },
  "language_info": {
   "codemirror_mode": {
    "name": "ipython",
    "version": 3
   },
   "file_extension": ".py",
   "mimetype": "text/x-python",
   "name": "python",
   "nbconvert_exporter": "python",
   "pygments_lexer": "ipython3",
   "version": "3.7.3"
  }
 },
 "nbformat": 4,
 "nbformat_minor": 2
}
